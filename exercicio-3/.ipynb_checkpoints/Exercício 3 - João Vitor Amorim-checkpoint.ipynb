{
 "cells": [
  {
   "cell_type": "markdown",
   "metadata": {},
   "source": [
    "# Exercício 3 - Física Moderna (ANP)\n",
    "#### Aluno: João Vitor Pereira Amorim\n",
    "\n",
    "---\n",
    "\n",
    "**Questões:**\n",
    "1. Use estados |+> e medidas repetidas para gerarem números aleatórios. Mostre o código criado por você e gere 6 números de 01 a 60.\n",
    "2. Como você faria para gerar esses mesmos números com múltiplos qubits?\n",
    "\n",
    "---\n",
    "\n",
    "**Soluções:**\n",
    "\n",
    "---"
   ]
  },
  {
   "cell_type": "markdown",
   "metadata": {},
   "source": [
    "**QUESTÃO 1)**\n",
    "\n",
    "Importação das bibliotecas:"
   ]
  },
  {
   "cell_type": "code",
   "execution_count": 59,
   "metadata": {},
   "outputs": [
    {
     "data": {
      "text/plain": [
       "{'qiskit-terra': '0.15.2',\n",
       " 'qiskit-aer': '0.6.1',\n",
       " 'qiskit-ignis': '0.4.0',\n",
       " 'qiskit-ibmq-provider': '0.9.0',\n",
       " 'qiskit-aqua': '0.7.5',\n",
       " 'qiskit': '0.21.0'}"
      ]
     },
     "execution_count": 59,
     "metadata": {},
     "output_type": "execute_result"
    }
   ],
   "source": [
    "%matplotlib inline\n",
    "import matplotlib\n",
    "from math import pi\n",
    "from qiskit import *\n",
    "from qiskit.extensions import Initialize\n",
    "qiskit.__qiskit_version__"
   ]
  },
  {
   "cell_type": "markdown",
   "metadata": {},
   "source": [
    "Inicialização do circuito com **apenas um qubit**, o |+>:"
   ]
  },
  {
   "cell_type": "code",
   "execution_count": 60,
   "metadata": {},
   "outputs": [
    {
     "data": {
      "image/png": "[encoded data removed]",
      "text/plain": [
       "<Figure size 308.106x144.48 with 1 Axes>"
      ]
     },
     "execution_count": 60,
     "metadata": {},
     "output_type": "execute_result"
    }
   ],
   "source": [
    "circuit = QuantumCircuit(1, 1)\n",
    "initializer = Initialize([1,0])\n",
    "circuit.append(initializer, [0])\n",
    "circuit.h(0)\n",
    "circuit.measure(0,0)\n",
    "circuit.draw(output='mpl')"
   ]
  },
  {
   "cell_type": "markdown",
   "metadata": {},
   "source": [
    "Para realizar a medição do nosso circuito quântico, podemos utilizar a seguinte função:"
   ]
  },
  {
   "cell_type": "code",
   "execution_count": 61,
   "metadata": {},
   "outputs": [],
   "source": [
    "def GetMeasureResult(circuit):\n",
    "    simulator = Aer.get_backend('qasm_simulator')\n",
    "    result = execute(circuit, backend = simulator, shots = 1).result()\n",
    "    return list(result.get_counts().keys())[0]"
   ]
  },
  {
   "cell_type": "markdown",
   "metadata": {},
   "source": [
    "Agora que temos nosso qubit no estado de superposição |+> e a função que fará a medida do qubit, já podemos gerar os 6 números aleatórios entre 01 e 60:"
   ]
  },
  {
   "cell_type": "code",
   "execution_count": 65,
   "metadata": {},
   "outputs": [
    {
     "name": "stdout",
     "output_type": "stream",
     "text": [
      "[35, 41, 27, 50, 19, 6]\n"
     ]
    }
   ],
   "source": [
    "numbers = []\n",
    "quantity_of_numbers = 6\n",
    "max_number_allowed = 60\n",
    "quantity_of_bits_needed = max_number_allowed.bit_length()\n",
    "\n",
    "for i in range(quantity_of_numbers):\n",
    "    decimal_number = max_number_allowed + 1\n",
    "    \n",
    "    while decimal_number > max_number_allowed:\n",
    "        binary_number = []\n",
    "        \n",
    "        for i in range(quantity_of_bits_needed):\n",
    "            result = GetMeasureResult(circuit)\n",
    "            binary_number.append(result)\n",
    "            \n",
    "        decimal_number = int(\"\".join(x for x in binary_number),2)\n",
    "    \n",
    "    numbers.append(decimal_number)\n",
    "\n",
    "print(numbers)"
   ]
  },
  {
   "cell_type": "markdown",
   "metadata": {},
   "source": [
    "Acima, temos os 6 números aleatórios gerados com **apenas um qubit**."
   ]
  },
  {
   "cell_type": "markdown",
   "metadata": {},
   "source": [
    "---\n",
    "\n",
    "**QUESTÃO 2)**\n",
    "\n",
    "Para gerar os números aleatórios utilizando **múltiplos qubits**, precisamos de um novo circuito quântico com mais qubits no estado |+>:"
   ]
  },
  {
   "cell_type": "code",
   "execution_count": 67,
   "metadata": {},
   "outputs": [
    {
     "data": {
      "image/png": "[encoded data removed]",
      "text/plain": [
       "<Figure size 622.377x445.48 with 1 Axes>"
      ]
     },
     "execution_count": 67,
     "metadata": {},
     "output_type": "execute_result"
    }
   ],
   "source": [
    "quantity_of_numbers = 6\n",
    "max_number_allowed = 60\n",
    "quantity_of_bits_needed = max_number_allowed.bit_length()\n",
    "\n",
    "circuit = QuantumCircuit(quantity_of_numbers, quantity_of_numbers)\n",
    "\n",
    "initializer = Initialize([1,0])\n",
    "\n",
    "for i in range(quantity_of_bits_needed):\n",
    "    circuit.append(initializer, [i])\n",
    "    circuit.h(i)\n",
    "    circuit.measure(i,i)\n",
    "    \n",
    "circuit.draw(output='mpl')"
   ]
  },
  {
   "cell_type": "markdown",
   "metadata": {},
   "source": [
    "Agora que temos nosso circuito, podemos gerar nossos 6 números:"
   ]
  },
  {
   "cell_type": "code",
   "execution_count": 72,
   "metadata": {},
   "outputs": [
    {
     "name": "stdout",
     "output_type": "stream",
     "text": [
      "[33, 49, 22, 47, 5, 1]\n"
     ]
    }
   ],
   "source": [
    "numbers = []\n",
    "\n",
    "for i in range(quantity_of_numbers):\n",
    "    decimal_number = max_number_allowed + 1\n",
    "    \n",
    "    while decimal_number > max_number_allowed:\n",
    "        result = GetMeasureResult(circuit)\n",
    "        decimal_number = int(result,2)\n",
    "    \n",
    "    numbers.append(decimal_number)\n",
    "    \n",
    "print(numbers)        "
   ]
  },
  {
   "cell_type": "markdown",
   "metadata": {},
   "source": [
    "Acima, temos os 6 números aleatórios gerados com **múltiplos qubits**."
   ]
  }
 ],
 "metadata": {
  "kernelspec": {
   "display_name": "Python 3",
   "language": "python",
   "name": "python3"
  },
  "language_info": {
   "codemirror_mode": {
    "name": "ipython",
    "version": 3
   },
   "file_extension": ".py",
   "mimetype": "text/x-python",
   "name": "python",
   "nbconvert_exporter": "python",
   "pygments_lexer": "ipython3",
   "version": "3.8.5"
  }
 },
 "nbformat": 4,
 "nbformat_minor": 4
}
